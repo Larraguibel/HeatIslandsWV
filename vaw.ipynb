{
 "cells": [
  {
   "cell_type": "code",
   "execution_count": 1,
   "metadata": {},
   "outputs": [],
   "source": [
    "import pandas as pd\n",
    "import geopandas as gpd\n",
    "import matplotlib.pyplot as plt\n",
    "import ee"
   ]
  },
  {
   "cell_type": "code",
   "execution_count": 25,
   "metadata": {},
   "outputs": [
    {
     "data": {
      "text/html": [
       "<p>To authorize access needed by Earth Engine, open the following\n",
       "        URL in a web browser and follow the instructions:</p>\n",
       "        <p><a href=https://code.earthengine.google.com/client-auth?scopes=https%3A//www.googleapis.com/auth/earthengine%20https%3A//www.googleapis.com/auth/devstorage.full_control&request_id=hHSjdHyh6-_pi04F9jsEjzkM9ej11oaF3iPQyi_mnOA&tc=DT6tRoEBnCZ1UvYWQkK39huTd88rnJsPO0s3BaAR-ZE&cc=eKH4CVtlyH6Nqh-x4pbnd1sQXzLVUwjYWH0L6vuCUx8>https://code.earthengine.google.com/client-auth?scopes=https%3A//www.googleapis.com/auth/earthengine%20https%3A//www.googleapis.com/auth/devstorage.full_control&request_id=hHSjdHyh6-_pi04F9jsEjzkM9ej11oaF3iPQyi_mnOA&tc=DT6tRoEBnCZ1UvYWQkK39huTd88rnJsPO0s3BaAR-ZE&cc=eKH4CVtlyH6Nqh-x4pbnd1sQXzLVUwjYWH0L6vuCUx8</a></p>\n",
       "        <p>The authorization workflow will generate a code, which you should paste in the box below.</p>\n",
       "        "
      ],
      "text/plain": [
       "<IPython.core.display.HTML object>"
      ]
     },
     "metadata": {},
     "output_type": "display_data"
    },
    {
     "ename": "KeyboardInterrupt",
     "evalue": "",
     "output_type": "error",
     "traceback": [
      "\u001b[0;31m---------------------------------------------------------------------------\u001b[0m",
      "\u001b[0;31mKeyboardInterrupt\u001b[0m                         Traceback (most recent call last)",
      "Cell \u001b[0;32mIn[25], line 1\u001b[0m\n\u001b[0;32m----> 1\u001b[0m ee\u001b[39m.\u001b[39;49mAuthenticate()\n\u001b[1;32m      2\u001b[0m ee\u001b[39m.\u001b[39mInitialize()\n",
      "File \u001b[0;32m~/opt/anaconda3/envs/tensorflow/lib/python3.9/site-packages/ee/__init__.py:103\u001b[0m, in \u001b[0;36mAuthenticate\u001b[0;34m(authorization_code, quiet, code_verifier, auth_mode, scopes)\u001b[0m\n\u001b[1;32m     77\u001b[0m \u001b[39mdef\u001b[39;00m \u001b[39mAuthenticate\u001b[39m(\n\u001b[1;32m     78\u001b[0m     authorization_code\u001b[39m=\u001b[39m\u001b[39mNone\u001b[39;00m,\n\u001b[1;32m     79\u001b[0m     quiet\u001b[39m=\u001b[39m\u001b[39mNone\u001b[39;00m,\n\u001b[1;32m     80\u001b[0m     code_verifier\u001b[39m=\u001b[39m\u001b[39mNone\u001b[39;00m,\n\u001b[1;32m     81\u001b[0m     auth_mode\u001b[39m=\u001b[39m\u001b[39mNone\u001b[39;00m,\n\u001b[1;32m     82\u001b[0m     scopes\u001b[39m=\u001b[39m\u001b[39mNone\u001b[39;00m):\n\u001b[1;32m     83\u001b[0m   \u001b[39m\"\"\"Prompts the user to authorize access to Earth Engine via OAuth2.\u001b[39;00m\n\u001b[1;32m     84\u001b[0m \n\u001b[1;32m     85\u001b[0m \u001b[39m  Args:\u001b[39;00m\n\u001b[0;32m   (...)\u001b[0m\n\u001b[1;32m    101\u001b[0m \u001b[39m     (auth_url, code_verifier) when called with quiet='init_only'\u001b[39;00m\n\u001b[1;32m    102\u001b[0m \u001b[39m  \"\"\"\u001b[39;00m\n\u001b[0;32m--> 103\u001b[0m   \u001b[39mreturn\u001b[39;00m oauth\u001b[39m.\u001b[39;49mauthenticate(authorization_code, quiet, code_verifier, auth_mode,\n\u001b[1;32m    104\u001b[0m                             scopes)\n",
      "File \u001b[0;32m~/opt/anaconda3/envs/tensorflow/lib/python3.9/site-packages/ee/oauth.py:408\u001b[0m, in \u001b[0;36mauthenticate\u001b[0;34m(cli_authorization_code, quiet, cli_code_verifier, auth_mode, scopes)\u001b[0m\n\u001b[1;32m    405\u001b[0m \u001b[39mif\u001b[39;00m flow\u001b[39m.\u001b[39mdisplay_instructions(quiet):\n\u001b[1;32m    406\u001b[0m   _open_new_browser(flow\u001b[39m.\u001b[39mauth_url)\n\u001b[0;32m--> 408\u001b[0m flow\u001b[39m.\u001b[39;49msave_code()\n",
      "File \u001b[0;32m~/opt/anaconda3/envs/tensorflow/lib/python3.9/site-packages/ee/oauth.py:451\u001b[0m, in \u001b[0;36mFlow.save_code\u001b[0;34m(self, code)\u001b[0m\n\u001b[1;32m    449\u001b[0m   redirect_uri \u001b[39m=\u001b[39m \u001b[39mself\u001b[39m\u001b[39m.\u001b[39mserver\u001b[39m.\u001b[39murl\n\u001b[1;32m    450\u001b[0m   code \u001b[39m=\u001b[39m \u001b[39mself\u001b[39m\u001b[39m.\u001b[39mserver\u001b[39m.\u001b[39mfetch_code()  \u001b[39m# Waits for oauth callback\u001b[39;00m\n\u001b[0;32m--> 451\u001b[0m _obtain_and_write_token(code, \u001b[39mself\u001b[39;49m\u001b[39m.\u001b[39;49mcode_verifier, \u001b[39mself\u001b[39;49m\u001b[39m.\u001b[39;49mscopes, redirect_uri)\n",
      "File \u001b[0;32m~/opt/anaconda3/envs/tensorflow/lib/python3.9/site-packages/ee/oauth.py:187\u001b[0m, in \u001b[0;36m_obtain_and_write_token\u001b[0;34m(auth_code, code_verifier, scopes, redirect_uri)\u001b[0m\n\u001b[1;32m    184\u001b[0m headers \u001b[39m=\u001b[39m {\u001b[39m'\u001b[39m\u001b[39mContent-Type\u001b[39m\u001b[39m'\u001b[39m: \u001b[39m'\u001b[39m\u001b[39mapplication/json; charset=UTF-8\u001b[39m\u001b[39m'\u001b[39m}\n\u001b[1;32m    185\u001b[0m fetch_client \u001b[39m=\u001b[39m urllib\u001b[39m.\u001b[39mrequest\u001b[39m.\u001b[39mRequest(FETCH_URL, data\u001b[39m=\u001b[39mdata, headers\u001b[39m=\u001b[39mheaders)\n\u001b[1;32m    186\u001b[0m fetched_info \u001b[39m=\u001b[39m json\u001b[39m.\u001b[39mloads(\n\u001b[0;32m--> 187\u001b[0m     urllib\u001b[39m.\u001b[39;49mrequest\u001b[39m.\u001b[39;49murlopen(fetch_client)\u001b[39m.\u001b[39mread()\u001b[39m.\u001b[39mdecode())\n\u001b[1;32m    188\u001b[0m client_info \u001b[39m=\u001b[39m {k: fetched_info[k] \u001b[39mfor\u001b[39;00m k \u001b[39min\u001b[39;00m [\u001b[39m'\u001b[39m\u001b[39mclient_id\u001b[39m\u001b[39m'\u001b[39m, \u001b[39m'\u001b[39m\u001b[39mclient_secret\u001b[39m\u001b[39m'\u001b[39m]}\n\u001b[1;32m    189\u001b[0m scopes \u001b[39m=\u001b[39m fetched_info\u001b[39m.\u001b[39mget(\u001b[39m'\u001b[39m\u001b[39mscopes\u001b[39m\u001b[39m'\u001b[39m) \u001b[39mor\u001b[39;00m scopes\n",
      "File \u001b[0;32m~/opt/anaconda3/envs/tensorflow/lib/python3.9/urllib/request.py:214\u001b[0m, in \u001b[0;36murlopen\u001b[0;34m(url, data, timeout, cafile, capath, cadefault, context)\u001b[0m\n\u001b[1;32m    212\u001b[0m \u001b[39melse\u001b[39;00m:\n\u001b[1;32m    213\u001b[0m     opener \u001b[39m=\u001b[39m _opener\n\u001b[0;32m--> 214\u001b[0m \u001b[39mreturn\u001b[39;00m opener\u001b[39m.\u001b[39;49mopen(url, data, timeout)\n",
      "File \u001b[0;32m~/opt/anaconda3/envs/tensorflow/lib/python3.9/urllib/request.py:517\u001b[0m, in \u001b[0;36mOpenerDirector.open\u001b[0;34m(self, fullurl, data, timeout)\u001b[0m\n\u001b[1;32m    514\u001b[0m     req \u001b[39m=\u001b[39m meth(req)\n\u001b[1;32m    516\u001b[0m sys\u001b[39m.\u001b[39maudit(\u001b[39m'\u001b[39m\u001b[39murllib.Request\u001b[39m\u001b[39m'\u001b[39m, req\u001b[39m.\u001b[39mfull_url, req\u001b[39m.\u001b[39mdata, req\u001b[39m.\u001b[39mheaders, req\u001b[39m.\u001b[39mget_method())\n\u001b[0;32m--> 517\u001b[0m response \u001b[39m=\u001b[39m \u001b[39mself\u001b[39;49m\u001b[39m.\u001b[39;49m_open(req, data)\n\u001b[1;32m    519\u001b[0m \u001b[39m# post-process response\u001b[39;00m\n\u001b[1;32m    520\u001b[0m meth_name \u001b[39m=\u001b[39m protocol\u001b[39m+\u001b[39m\u001b[39m\"\u001b[39m\u001b[39m_response\u001b[39m\u001b[39m\"\u001b[39m\n",
      "File \u001b[0;32m~/opt/anaconda3/envs/tensorflow/lib/python3.9/urllib/request.py:534\u001b[0m, in \u001b[0;36mOpenerDirector._open\u001b[0;34m(self, req, data)\u001b[0m\n\u001b[1;32m    531\u001b[0m     \u001b[39mreturn\u001b[39;00m result\n\u001b[1;32m    533\u001b[0m protocol \u001b[39m=\u001b[39m req\u001b[39m.\u001b[39mtype\n\u001b[0;32m--> 534\u001b[0m result \u001b[39m=\u001b[39m \u001b[39mself\u001b[39;49m\u001b[39m.\u001b[39;49m_call_chain(\u001b[39mself\u001b[39;49m\u001b[39m.\u001b[39;49mhandle_open, protocol, protocol \u001b[39m+\u001b[39;49m\n\u001b[1;32m    535\u001b[0m                           \u001b[39m'\u001b[39;49m\u001b[39m_open\u001b[39;49m\u001b[39m'\u001b[39;49m, req)\n\u001b[1;32m    536\u001b[0m \u001b[39mif\u001b[39;00m result:\n\u001b[1;32m    537\u001b[0m     \u001b[39mreturn\u001b[39;00m result\n",
      "File \u001b[0;32m~/opt/anaconda3/envs/tensorflow/lib/python3.9/urllib/request.py:494\u001b[0m, in \u001b[0;36mOpenerDirector._call_chain\u001b[0;34m(self, chain, kind, meth_name, *args)\u001b[0m\n\u001b[1;32m    492\u001b[0m \u001b[39mfor\u001b[39;00m handler \u001b[39min\u001b[39;00m handlers:\n\u001b[1;32m    493\u001b[0m     func \u001b[39m=\u001b[39m \u001b[39mgetattr\u001b[39m(handler, meth_name)\n\u001b[0;32m--> 494\u001b[0m     result \u001b[39m=\u001b[39m func(\u001b[39m*\u001b[39;49margs)\n\u001b[1;32m    495\u001b[0m     \u001b[39mif\u001b[39;00m result \u001b[39mis\u001b[39;00m \u001b[39mnot\u001b[39;00m \u001b[39mNone\u001b[39;00m:\n\u001b[1;32m    496\u001b[0m         \u001b[39mreturn\u001b[39;00m result\n",
      "File \u001b[0;32m~/opt/anaconda3/envs/tensorflow/lib/python3.9/urllib/request.py:1389\u001b[0m, in \u001b[0;36mHTTPSHandler.https_open\u001b[0;34m(self, req)\u001b[0m\n\u001b[1;32m   1388\u001b[0m \u001b[39mdef\u001b[39;00m \u001b[39mhttps_open\u001b[39m(\u001b[39mself\u001b[39m, req):\n\u001b[0;32m-> 1389\u001b[0m     \u001b[39mreturn\u001b[39;00m \u001b[39mself\u001b[39;49m\u001b[39m.\u001b[39;49mdo_open(http\u001b[39m.\u001b[39;49mclient\u001b[39m.\u001b[39;49mHTTPSConnection, req,\n\u001b[1;32m   1390\u001b[0m         context\u001b[39m=\u001b[39;49m\u001b[39mself\u001b[39;49m\u001b[39m.\u001b[39;49m_context, check_hostname\u001b[39m=\u001b[39;49m\u001b[39mself\u001b[39;49m\u001b[39m.\u001b[39;49m_check_hostname)\n",
      "File \u001b[0;32m~/opt/anaconda3/envs/tensorflow/lib/python3.9/urllib/request.py:1346\u001b[0m, in \u001b[0;36mAbstractHTTPHandler.do_open\u001b[0;34m(self, http_class, req, **http_conn_args)\u001b[0m\n\u001b[1;32m   1344\u001b[0m \u001b[39mtry\u001b[39;00m:\n\u001b[1;32m   1345\u001b[0m     \u001b[39mtry\u001b[39;00m:\n\u001b[0;32m-> 1346\u001b[0m         h\u001b[39m.\u001b[39;49mrequest(req\u001b[39m.\u001b[39;49mget_method(), req\u001b[39m.\u001b[39;49mselector, req\u001b[39m.\u001b[39;49mdata, headers,\n\u001b[1;32m   1347\u001b[0m                   encode_chunked\u001b[39m=\u001b[39;49mreq\u001b[39m.\u001b[39;49mhas_header(\u001b[39m'\u001b[39;49m\u001b[39mTransfer-encoding\u001b[39;49m\u001b[39m'\u001b[39;49m))\n\u001b[1;32m   1348\u001b[0m     \u001b[39mexcept\u001b[39;00m \u001b[39mOSError\u001b[39;00m \u001b[39mas\u001b[39;00m err: \u001b[39m# timeout error\u001b[39;00m\n\u001b[1;32m   1349\u001b[0m         \u001b[39mraise\u001b[39;00m URLError(err)\n",
      "File \u001b[0;32m~/opt/anaconda3/envs/tensorflow/lib/python3.9/http/client.py:1285\u001b[0m, in \u001b[0;36mHTTPConnection.request\u001b[0;34m(self, method, url, body, headers, encode_chunked)\u001b[0m\n\u001b[1;32m   1282\u001b[0m \u001b[39mdef\u001b[39;00m \u001b[39mrequest\u001b[39m(\u001b[39mself\u001b[39m, method, url, body\u001b[39m=\u001b[39m\u001b[39mNone\u001b[39;00m, headers\u001b[39m=\u001b[39m{}, \u001b[39m*\u001b[39m,\n\u001b[1;32m   1283\u001b[0m             encode_chunked\u001b[39m=\u001b[39m\u001b[39mFalse\u001b[39;00m):\n\u001b[1;32m   1284\u001b[0m     \u001b[39m\"\"\"Send a complete request to the server.\"\"\"\u001b[39;00m\n\u001b[0;32m-> 1285\u001b[0m     \u001b[39mself\u001b[39;49m\u001b[39m.\u001b[39;49m_send_request(method, url, body, headers, encode_chunked)\n",
      "File \u001b[0;32m~/opt/anaconda3/envs/tensorflow/lib/python3.9/http/client.py:1331\u001b[0m, in \u001b[0;36mHTTPConnection._send_request\u001b[0;34m(self, method, url, body, headers, encode_chunked)\u001b[0m\n\u001b[1;32m   1327\u001b[0m \u001b[39mif\u001b[39;00m \u001b[39misinstance\u001b[39m(body, \u001b[39mstr\u001b[39m):\n\u001b[1;32m   1328\u001b[0m     \u001b[39m# RFC 2616 Section 3.7.1 says that text default has a\u001b[39;00m\n\u001b[1;32m   1329\u001b[0m     \u001b[39m# default charset of iso-8859-1.\u001b[39;00m\n\u001b[1;32m   1330\u001b[0m     body \u001b[39m=\u001b[39m _encode(body, \u001b[39m'\u001b[39m\u001b[39mbody\u001b[39m\u001b[39m'\u001b[39m)\n\u001b[0;32m-> 1331\u001b[0m \u001b[39mself\u001b[39;49m\u001b[39m.\u001b[39;49mendheaders(body, encode_chunked\u001b[39m=\u001b[39;49mencode_chunked)\n",
      "File \u001b[0;32m~/opt/anaconda3/envs/tensorflow/lib/python3.9/http/client.py:1280\u001b[0m, in \u001b[0;36mHTTPConnection.endheaders\u001b[0;34m(self, message_body, encode_chunked)\u001b[0m\n\u001b[1;32m   1278\u001b[0m \u001b[39melse\u001b[39;00m:\n\u001b[1;32m   1279\u001b[0m     \u001b[39mraise\u001b[39;00m CannotSendHeader()\n\u001b[0;32m-> 1280\u001b[0m \u001b[39mself\u001b[39;49m\u001b[39m.\u001b[39;49m_send_output(message_body, encode_chunked\u001b[39m=\u001b[39;49mencode_chunked)\n",
      "File \u001b[0;32m~/opt/anaconda3/envs/tensorflow/lib/python3.9/http/client.py:1040\u001b[0m, in \u001b[0;36mHTTPConnection._send_output\u001b[0;34m(self, message_body, encode_chunked)\u001b[0m\n\u001b[1;32m   1038\u001b[0m msg \u001b[39m=\u001b[39m \u001b[39mb\u001b[39m\u001b[39m\"\u001b[39m\u001b[39m\\r\u001b[39;00m\u001b[39m\\n\u001b[39;00m\u001b[39m\"\u001b[39m\u001b[39m.\u001b[39mjoin(\u001b[39mself\u001b[39m\u001b[39m.\u001b[39m_buffer)\n\u001b[1;32m   1039\u001b[0m \u001b[39mdel\u001b[39;00m \u001b[39mself\u001b[39m\u001b[39m.\u001b[39m_buffer[:]\n\u001b[0;32m-> 1040\u001b[0m \u001b[39mself\u001b[39;49m\u001b[39m.\u001b[39;49msend(msg)\n\u001b[1;32m   1042\u001b[0m \u001b[39mif\u001b[39;00m message_body \u001b[39mis\u001b[39;00m \u001b[39mnot\u001b[39;00m \u001b[39mNone\u001b[39;00m:\n\u001b[1;32m   1043\u001b[0m \n\u001b[1;32m   1044\u001b[0m     \u001b[39m# create a consistent interface to message_body\u001b[39;00m\n\u001b[1;32m   1045\u001b[0m     \u001b[39mif\u001b[39;00m \u001b[39mhasattr\u001b[39m(message_body, \u001b[39m'\u001b[39m\u001b[39mread\u001b[39m\u001b[39m'\u001b[39m):\n\u001b[1;32m   1046\u001b[0m         \u001b[39m# Let file-like take precedence over byte-like.  This\u001b[39;00m\n\u001b[1;32m   1047\u001b[0m         \u001b[39m# is needed to allow the current position of mmap'ed\u001b[39;00m\n\u001b[1;32m   1048\u001b[0m         \u001b[39m# files to be taken into account.\u001b[39;00m\n",
      "File \u001b[0;32m~/opt/anaconda3/envs/tensorflow/lib/python3.9/http/client.py:980\u001b[0m, in \u001b[0;36mHTTPConnection.send\u001b[0;34m(self, data)\u001b[0m\n\u001b[1;32m    978\u001b[0m \u001b[39mif\u001b[39;00m \u001b[39mself\u001b[39m\u001b[39m.\u001b[39msock \u001b[39mis\u001b[39;00m \u001b[39mNone\u001b[39;00m:\n\u001b[1;32m    979\u001b[0m     \u001b[39mif\u001b[39;00m \u001b[39mself\u001b[39m\u001b[39m.\u001b[39mauto_open:\n\u001b[0;32m--> 980\u001b[0m         \u001b[39mself\u001b[39;49m\u001b[39m.\u001b[39;49mconnect()\n\u001b[1;32m    981\u001b[0m     \u001b[39melse\u001b[39;00m:\n\u001b[1;32m    982\u001b[0m         \u001b[39mraise\u001b[39;00m NotConnected()\n",
      "File \u001b[0;32m~/opt/anaconda3/envs/tensorflow/lib/python3.9/http/client.py:1447\u001b[0m, in \u001b[0;36mHTTPSConnection.connect\u001b[0;34m(self)\u001b[0m\n\u001b[1;32m   1444\u001b[0m \u001b[39mdef\u001b[39;00m \u001b[39mconnect\u001b[39m(\u001b[39mself\u001b[39m):\n\u001b[1;32m   1445\u001b[0m     \u001b[39m\"\u001b[39m\u001b[39mConnect to a host on a given (SSL) port.\u001b[39m\u001b[39m\"\u001b[39m\n\u001b[0;32m-> 1447\u001b[0m     \u001b[39msuper\u001b[39;49m()\u001b[39m.\u001b[39;49mconnect()\n\u001b[1;32m   1449\u001b[0m     \u001b[39mif\u001b[39;00m \u001b[39mself\u001b[39m\u001b[39m.\u001b[39m_tunnel_host:\n\u001b[1;32m   1450\u001b[0m         server_hostname \u001b[39m=\u001b[39m \u001b[39mself\u001b[39m\u001b[39m.\u001b[39m_tunnel_host\n",
      "File \u001b[0;32m~/opt/anaconda3/envs/tensorflow/lib/python3.9/http/client.py:946\u001b[0m, in \u001b[0;36mHTTPConnection.connect\u001b[0;34m(self)\u001b[0m\n\u001b[1;32m    944\u001b[0m \u001b[39mdef\u001b[39;00m \u001b[39mconnect\u001b[39m(\u001b[39mself\u001b[39m):\n\u001b[1;32m    945\u001b[0m     \u001b[39m\"\"\"Connect to the host and port specified in __init__.\"\"\"\u001b[39;00m\n\u001b[0;32m--> 946\u001b[0m     \u001b[39mself\u001b[39m\u001b[39m.\u001b[39msock \u001b[39m=\u001b[39m \u001b[39mself\u001b[39;49m\u001b[39m.\u001b[39;49m_create_connection(\n\u001b[1;32m    947\u001b[0m         (\u001b[39mself\u001b[39;49m\u001b[39m.\u001b[39;49mhost,\u001b[39mself\u001b[39;49m\u001b[39m.\u001b[39;49mport), \u001b[39mself\u001b[39;49m\u001b[39m.\u001b[39;49mtimeout, \u001b[39mself\u001b[39;49m\u001b[39m.\u001b[39;49msource_address)\n\u001b[1;32m    948\u001b[0m     \u001b[39m# Might fail in OSs that don't implement TCP_NODELAY\u001b[39;00m\n\u001b[1;32m    949\u001b[0m     \u001b[39mtry\u001b[39;00m:\n",
      "File \u001b[0;32m~/opt/anaconda3/envs/tensorflow/lib/python3.9/socket.py:832\u001b[0m, in \u001b[0;36mcreate_connection\u001b[0;34m(address, timeout, source_address)\u001b[0m\n\u001b[1;32m    830\u001b[0m \u001b[39mif\u001b[39;00m source_address:\n\u001b[1;32m    831\u001b[0m     sock\u001b[39m.\u001b[39mbind(source_address)\n\u001b[0;32m--> 832\u001b[0m sock\u001b[39m.\u001b[39;49mconnect(sa)\n\u001b[1;32m    833\u001b[0m \u001b[39m# Break explicitly a reference cycle\u001b[39;00m\n\u001b[1;32m    834\u001b[0m err \u001b[39m=\u001b[39m \u001b[39mNone\u001b[39;00m\n",
      "\u001b[0;31mKeyboardInterrupt\u001b[0m: "
     ]
    }
   ],
   "source": [
    "ee.Authenticate()\n",
    "ee.Initialize()"
   ]
  },
  {
   "cell_type": "code",
   "execution_count": 14,
   "metadata": {},
   "outputs": [],
   "source": [
    "useful_crimes = gpd.read_file('filtered dataset/crimes_filtered.shp')\n",
    "useful_crimes.to_crs('EPSG:4326', inplace=True)"
   ]
  },
  {
   "cell_type": "code",
   "execution_count": 13,
   "metadata": {},
   "outputs": [
    {
     "data": {
      "text/html": [
       "<div>\n",
       "<style scoped>\n",
       "    .dataframe tbody tr th:only-of-type {\n",
       "        vertical-align: middle;\n",
       "    }\n",
       "\n",
       "    .dataframe tbody tr th {\n",
       "        vertical-align: top;\n",
       "    }\n",
       "\n",
       "    .dataframe thead th {\n",
       "        text-align: right;\n",
       "    }\n",
       "</style>\n",
       "<table border=\"1\" class=\"dataframe\">\n",
       "  <thead>\n",
       "    <tr style=\"text-align: right;\">\n",
       "      <th></th>\n",
       "      <th>CTLabel</th>\n",
       "      <th>BoroCode</th>\n",
       "      <th>BoroName</th>\n",
       "      <th>CT2020</th>\n",
       "      <th>BoroCT2020</th>\n",
       "      <th>CDEligibil</th>\n",
       "      <th>NTAName</th>\n",
       "      <th>NTA2020</th>\n",
       "      <th>CDTA2020</th>\n",
       "      <th>CDTANAME</th>\n",
       "      <th>GEOID</th>\n",
       "      <th>PUMA</th>\n",
       "      <th>Shape_Leng</th>\n",
       "      <th>Shape_Area</th>\n",
       "      <th>geometry</th>\n",
       "    </tr>\n",
       "  </thead>\n",
       "  <tbody>\n",
       "    <tr>\n",
       "      <th>0</th>\n",
       "      <td>1</td>\n",
       "      <td>1</td>\n",
       "      <td>Manhattan</td>\n",
       "      <td>000100</td>\n",
       "      <td>1000100</td>\n",
       "      <td>None</td>\n",
       "      <td>The Battery-Governors Island-Ellis Island-Libe...</td>\n",
       "      <td>MN0191</td>\n",
       "      <td>MN01</td>\n",
       "      <td>MN01 Financial District-Tribeca (CD 1 Equivalent)</td>\n",
       "      <td>36061000100</td>\n",
       "      <td>4121</td>\n",
       "      <td>10833.043929</td>\n",
       "      <td>1.843005e+06</td>\n",
       "      <td>MULTIPOLYGON (((-74.04388 40.69019, -74.04351 ...</td>\n",
       "    </tr>\n",
       "  </tbody>\n",
       "</table>\n",
       "</div>"
      ],
      "text/plain": [
       "  CTLabel BoroCode   BoroName  CT2020 BoroCT2020 CDEligibil   \n",
       "0       1        1  Manhattan  000100    1000100       None  \\\n",
       "\n",
       "                                             NTAName NTA2020 CDTA2020   \n",
       "0  The Battery-Governors Island-Ellis Island-Libe...  MN0191     MN01  \\\n",
       "\n",
       "                                            CDTANAME        GEOID  PUMA   \n",
       "0  MN01 Financial District-Tribeca (CD 1 Equivalent)  36061000100  4121  \\\n",
       "\n",
       "     Shape_Leng    Shape_Area   \n",
       "0  10833.043929  1.843005e+06  \\\n",
       "\n",
       "                                            geometry  \n",
       "0  MULTIPOLYGON (((-74.04388 40.69019, -74.04351 ...  "
      ]
     },
     "execution_count": 13,
     "metadata": {},
     "output_type": "execute_result"
    }
   ],
   "source": [
    "manz = gpd.read_file('nyct2020_23b/nyct2020.shp')\n",
    "manz.to_crs('EPSG:4326', inplace=True)\n",
    "manz.head(1)"
   ]
  },
  {
   "cell_type": "code",
   "execution_count": 17,
   "metadata": {},
   "outputs": [
    {
     "data": {
      "text/html": [
       "<div>\n",
       "<style scoped>\n",
       "    .dataframe tbody tr th:only-of-type {\n",
       "        vertical-align: middle;\n",
       "    }\n",
       "\n",
       "    .dataframe tbody tr th {\n",
       "        vertical-align: top;\n",
       "    }\n",
       "\n",
       "    .dataframe thead th {\n",
       "        text-align: right;\n",
       "    }\n",
       "</style>\n",
       "<table border=\"1\" class=\"dataframe\">\n",
       "  <thead>\n",
       "    <tr style=\"text-align: right;\">\n",
       "      <th></th>\n",
       "      <th>cmplnt_num</th>\n",
       "      <th>addr_pct_c</th>\n",
       "      <th>boro_nm</th>\n",
       "      <th>date_cmpln</th>\n",
       "      <th>time_cmpln</th>\n",
       "      <th>cmplnt_fr_</th>\n",
       "      <th>date_cmp_2</th>\n",
       "      <th>time_cmp_2</th>\n",
       "      <th>cmplnt_to_</th>\n",
       "      <th>crm_atpt_c</th>\n",
       "      <th>...</th>\n",
       "      <th>susp_sex</th>\n",
       "      <th>transit_di</th>\n",
       "      <th>vic_age_gr</th>\n",
       "      <th>vic_race</th>\n",
       "      <th>vic_sex</th>\n",
       "      <th>x_coord_cd</th>\n",
       "      <th>y_coord_cd</th>\n",
       "      <th>latitude</th>\n",
       "      <th>longitude</th>\n",
       "      <th>geometry</th>\n",
       "    </tr>\n",
       "  </thead>\n",
       "  <tbody>\n",
       "    <tr>\n",
       "      <th>0</th>\n",
       "      <td>262612530</td>\n",
       "      <td>110.0</td>\n",
       "      <td>QUEENS</td>\n",
       "      <td>2022-09-09</td>\n",
       "      <td>00:00:00.000</td>\n",
       "      <td>00:55:00</td>\n",
       "      <td>2022-09-09</td>\n",
       "      <td>00:00:00.000</td>\n",
       "      <td>01:19:00</td>\n",
       "      <td>COMPLETED</td>\n",
       "      <td>...</td>\n",
       "      <td>M</td>\n",
       "      <td>NaN</td>\n",
       "      <td>25-44</td>\n",
       "      <td>WHITE HISPANIC</td>\n",
       "      <td>F</td>\n",
       "      <td>1019164.0</td>\n",
       "      <td>210169.0</td>\n",
       "      <td>40.743481</td>\n",
       "      <td>-73.874004</td>\n",
       "      <td>POINT (-73.87400 40.74348)</td>\n",
       "    </tr>\n",
       "  </tbody>\n",
       "</table>\n",
       "<p>1 rows × 38 columns</p>\n",
       "</div>"
      ],
      "text/plain": [
       "  cmplnt_num  addr_pct_c boro_nm  date_cmpln    time_cmpln cmplnt_fr_   \n",
       "0  262612530       110.0  QUEENS  2022-09-09  00:00:00.000   00:55:00  \\\n",
       "\n",
       "   date_cmp_2    time_cmp_2 cmplnt_to_ crm_atpt_c  ... susp_sex  transit_di   \n",
       "0  2022-09-09  00:00:00.000   01:19:00  COMPLETED  ...        M         NaN  \\\n",
       "\n",
       "   vic_age_gr        vic_race  vic_sex x_coord_cd y_coord_cd   latitude   \n",
       "0       25-44  WHITE HISPANIC        F  1019164.0   210169.0  40.743481  \\\n",
       "\n",
       "   longitude                    geometry  \n",
       "0 -73.874004  POINT (-73.87400 40.74348)  \n",
       "\n",
       "[1 rows x 38 columns]"
      ]
     },
     "execution_count": 17,
     "metadata": {},
     "output_type": "execute_result"
    }
   ],
   "source": [
    "useful_crimes.head(1)"
   ]
  },
  {
   "attachments": {},
   "cell_type": "markdown",
   "metadata": {},
   "source": [
    "### 1. Importaciones y preprocesamiento"
   ]
  },
  {
   "cell_type": "code",
   "execution_count": 24,
   "metadata": {},
   "outputs": [],
   "source": [
    "\n",
    "poly = manz.envelope.geometry.iloc[0]\n",
    "xy = list(poly.exterior.coords)\n",
    "aoi = ee.Geometry.Polygon(xy)"
   ]
  },
  {
   "cell_type": "code",
   "execution_count": null,
   "metadata": {},
   "outputs": [],
   "source": [
    "collection = ee.ImageCollection('LANDSAT').filterBounds(aoi).filterDate('2022-12-30', '2023-04-29')\n",
    "images=collection.aggregate_array('system:id').getInfo()"
   ]
  },
  {
   "cell_type": "code",
   "execution_count": 16,
   "metadata": {},
   "outputs": [
    {
     "ename": "AttributeError",
     "evalue": "'MultiPolygon' object has no attribute 'plot'",
     "output_type": "error",
     "traceback": [
      "\u001b[0;31m---------------------------------------------------------------------------\u001b[0m",
      "\u001b[0;31mAttributeError\u001b[0m                            Traceback (most recent call last)",
      "Cell \u001b[0;32mIn[16], line 2\u001b[0m\n\u001b[1;32m      1\u001b[0m fig, ax \u001b[39m=\u001b[39m plt\u001b[39m.\u001b[39msubplots(\u001b[39m1\u001b[39m, \u001b[39m1\u001b[39m, figsize\u001b[39m=\u001b[39m(\u001b[39m8\u001b[39m,\u001b[39m8\u001b[39m))\n\u001b[0;32m----> 2\u001b[0m city\u001b[39m.\u001b[39;49mplot(ax\u001b[39m=\u001b[39max, color\u001b[39m=\u001b[39m\u001b[39m\"\u001b[39m\u001b[39mdarkgreen\u001b[39m\u001b[39m\"\u001b[39m, zorder\u001b[39m=\u001b[39m\u001b[39m0\u001b[39m)\n\u001b[1;32m      4\u001b[0m plt\u001b[39m.\u001b[39mtitle(\u001b[39m\"\u001b[39m\u001b[39mAcceso Deficiente a Agua Potable Rural\u001b[39m\u001b[39m\"\u001b[39m, size\u001b[39m=\u001b[39m\u001b[39m20\u001b[39m)\n\u001b[1;32m      5\u001b[0m plt\u001b[39m.\u001b[39mxlabel(\u001b[39m\"\u001b[39m\u001b[39mEasting (m)\u001b[39m\u001b[39m\"\u001b[39m)\n",
      "\u001b[0;31mAttributeError\u001b[0m: 'MultiPolygon' object has no attribute 'plot'"
     ]
    },
    {
     "data": {
      "image/png": "[encoded data removed]",
      "text/plain": [
       "<Figure size 800x800 with 1 Axes>"
      ]
     },
     "metadata": {},
     "output_type": "display_data"
    }
   ],
   "source": [
    "fig, ax = plt.subplots(1, 1, figsize=(8,8))\n",
    "city.plot(ax=ax, color=\"darkgreen\", zorder=0)\n",
    "\n",
    "plt.title(\"Acceso Deficiente a Agua Potable Rural\", size=20)\n",
    "plt.xlabel(\"Easting (m)\")\n",
    "plt.ylabel(\"Northing (m)\")\n",
    "plt.show()\n"
   ]
  },
  {
   "cell_type": "code",
   "execution_count": null,
   "metadata": {},
   "outputs": [],
   "source": []
  }
 ],
 "metadata": {
  "kernelspec": {
   "display_name": "tensorflow",
   "language": "python",
   "name": "python3"
  },
  "language_info": {
   "codemirror_mode": {
    "name": "ipython",
    "version": 3
   },
   "file_extension": ".py",
   "mimetype": "text/x-python",
   "name": "python",
   "nbconvert_exporter": "python",
   "pygments_lexer": "ipython3",
   "version": "3.9.16"
  },
  "orig_nbformat": 4
 },
 "nbformat": 4,
 "nbformat_minor": 2
}
