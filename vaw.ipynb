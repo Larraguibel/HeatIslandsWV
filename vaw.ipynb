{
 "cells": [
  {
   "attachments": {},
   "cell_type": "markdown",
   "metadata": {},
   "source": [
    "## 1. Importaciones y lceturas"
   ]
  },
  {
   "cell_type": "code",
   "execution_count": 10,
   "metadata": {},
   "outputs": [],
   "source": [
    "import pandas as pd\n",
    "import geopandas as gpd\n",
    "import matplotlib.pyplot as plt\n",
    "import ee\n",
    "import geemap\n",
    "from shapely.geometry import box"
   ]
  },
  {
   "cell_type": "code",
   "execution_count": 11,
   "metadata": {},
   "outputs": [],
   "source": [
    "# ee.Authenticate()\n",
    "ee.Initialize()"
   ]
  },
  {
   "cell_type": "code",
   "execution_count": 12,
   "metadata": {},
   "outputs": [],
   "source": [
    "useful_crimes = gpd.read_file('filtered dataset/crimes_filtered.shp')\n",
    "useful_crimes.to_crs('EPSG:4326', inplace=True)"
   ]
  },
  {
   "cell_type": "code",
   "execution_count": 13,
   "metadata": {},
   "outputs": [
    {
     "data": {
      "text/html": [
       "<div>\n",
       "<style scoped>\n",
       "    .dataframe tbody tr th:only-of-type {\n",
       "        vertical-align: middle;\n",
       "    }\n",
       "\n",
       "    .dataframe tbody tr th {\n",
       "        vertical-align: top;\n",
       "    }\n",
       "\n",
       "    .dataframe thead th {\n",
       "        text-align: right;\n",
       "    }\n",
       "</style>\n",
       "<table border=\"1\" class=\"dataframe\">\n",
       "  <thead>\n",
       "    <tr style=\"text-align: right;\">\n",
       "      <th></th>\n",
       "      <th>CTLabel</th>\n",
       "      <th>BoroCode</th>\n",
       "      <th>BoroName</th>\n",
       "      <th>CT2020</th>\n",
       "      <th>BoroCT2020</th>\n",
       "      <th>CDEligibil</th>\n",
       "      <th>NTAName</th>\n",
       "      <th>NTA2020</th>\n",
       "      <th>CDTA2020</th>\n",
       "      <th>CDTANAME</th>\n",
       "      <th>GEOID</th>\n",
       "      <th>PUMA</th>\n",
       "      <th>Shape_Leng</th>\n",
       "      <th>Shape_Area</th>\n",
       "      <th>geometry</th>\n",
       "    </tr>\n",
       "  </thead>\n",
       "  <tbody>\n",
       "    <tr>\n",
       "      <th>0</th>\n",
       "      <td>1</td>\n",
       "      <td>1</td>\n",
       "      <td>Manhattan</td>\n",
       "      <td>000100</td>\n",
       "      <td>1000100</td>\n",
       "      <td>None</td>\n",
       "      <td>The Battery-Governors Island-Ellis Island-Libe...</td>\n",
       "      <td>MN0191</td>\n",
       "      <td>MN01</td>\n",
       "      <td>MN01 Financial District-Tribeca (CD 1 Equivalent)</td>\n",
       "      <td>36061000100</td>\n",
       "      <td>4121</td>\n",
       "      <td>10833.043929</td>\n",
       "      <td>1.843005e+06</td>\n",
       "      <td>MULTIPOLYGON (((-74.04388 40.69019, -74.04351 ...</td>\n",
       "    </tr>\n",
       "  </tbody>\n",
       "</table>\n",
       "</div>"
      ],
      "text/plain": [
       "  CTLabel BoroCode   BoroName  CT2020 BoroCT2020 CDEligibil   \n",
       "0       1        1  Manhattan  000100    1000100       None  \\\n",
       "\n",
       "                                             NTAName NTA2020 CDTA2020   \n",
       "0  The Battery-Governors Island-Ellis Island-Libe...  MN0191     MN01  \\\n",
       "\n",
       "                                            CDTANAME        GEOID  PUMA   \n",
       "0  MN01 Financial District-Tribeca (CD 1 Equivalent)  36061000100  4121  \\\n",
       "\n",
       "     Shape_Leng    Shape_Area   \n",
       "0  10833.043929  1.843005e+06  \\\n",
       "\n",
       "                                            geometry  \n",
       "0  MULTIPOLYGON (((-74.04388 40.69019, -74.04351 ...  "
      ]
     },
     "execution_count": 13,
     "metadata": {},
     "output_type": "execute_result"
    }
   ],
   "source": [
    "manz = gpd.read_file('nyct2020_23b/nyct2020.shp')\n",
    "manz.to_crs('EPSG:4326', inplace=True)\n",
    "manz.head(1)"
   ]
  },
  {
   "cell_type": "code",
   "execution_count": 15,
   "metadata": {},
   "outputs": [
    {
     "data": {
      "text/html": [
       "<div>\n",
       "<style scoped>\n",
       "    .dataframe tbody tr th:only-of-type {\n",
       "        vertical-align: middle;\n",
       "    }\n",
       "\n",
       "    .dataframe tbody tr th {\n",
       "        vertical-align: top;\n",
       "    }\n",
       "\n",
       "    .dataframe thead th {\n",
       "        text-align: right;\n",
       "    }\n",
       "</style>\n",
       "<table border=\"1\" class=\"dataframe\">\n",
       "  <thead>\n",
       "    <tr style=\"text-align: right;\">\n",
       "      <th></th>\n",
       "      <th>cmplnt_num</th>\n",
       "      <th>addr_pct_c</th>\n",
       "      <th>boro_nm</th>\n",
       "      <th>date_cmpln</th>\n",
       "      <th>time_cmpln</th>\n",
       "      <th>cmplnt_fr_</th>\n",
       "      <th>date_cmp_2</th>\n",
       "      <th>time_cmp_2</th>\n",
       "      <th>cmplnt_to_</th>\n",
       "      <th>crm_atpt_c</th>\n",
       "      <th>...</th>\n",
       "      <th>susp_sex</th>\n",
       "      <th>transit_di</th>\n",
       "      <th>vic_age_gr</th>\n",
       "      <th>vic_race</th>\n",
       "      <th>vic_sex</th>\n",
       "      <th>x_coord_cd</th>\n",
       "      <th>y_coord_cd</th>\n",
       "      <th>latitude</th>\n",
       "      <th>longitude</th>\n",
       "      <th>geometry</th>\n",
       "    </tr>\n",
       "  </thead>\n",
       "  <tbody>\n",
       "    <tr>\n",
       "      <th>0</th>\n",
       "      <td>262612530</td>\n",
       "      <td>110.0</td>\n",
       "      <td>QUEENS</td>\n",
       "      <td>2022-09-09</td>\n",
       "      <td>00:00:00.000</td>\n",
       "      <td>00:55:00</td>\n",
       "      <td>2022-09-09</td>\n",
       "      <td>00:00:00.000</td>\n",
       "      <td>01:19:00</td>\n",
       "      <td>COMPLETED</td>\n",
       "      <td>...</td>\n",
       "      <td>M</td>\n",
       "      <td>NaN</td>\n",
       "      <td>25-44</td>\n",
       "      <td>WHITE HISPANIC</td>\n",
       "      <td>F</td>\n",
       "      <td>1019164.0</td>\n",
       "      <td>210169.0</td>\n",
       "      <td>40.743481</td>\n",
       "      <td>-73.874004</td>\n",
       "      <td>POINT (-73.87400 40.74348)</td>\n",
       "    </tr>\n",
       "  </tbody>\n",
       "</table>\n",
       "<p>1 rows × 38 columns</p>\n",
       "</div>"
      ],
      "text/plain": [
       "  cmplnt_num  addr_pct_c boro_nm  date_cmpln    time_cmpln cmplnt_fr_   \n",
       "0  262612530       110.0  QUEENS  2022-09-09  00:00:00.000   00:55:00  \\\n",
       "\n",
       "   date_cmp_2    time_cmp_2 cmplnt_to_ crm_atpt_c  ... susp_sex  transit_di   \n",
       "0  2022-09-09  00:00:00.000   01:19:00  COMPLETED  ...        M         NaN  \\\n",
       "\n",
       "   vic_age_gr        vic_race  vic_sex x_coord_cd y_coord_cd   latitude   \n",
       "0       25-44  WHITE HISPANIC        F  1019164.0   210169.0  40.743481  \\\n",
       "\n",
       "   longitude                    geometry  \n",
       "0 -73.874004  POINT (-73.87400 40.74348)  \n",
       "\n",
       "[1 rows x 38 columns]"
      ]
     },
     "execution_count": 15,
     "metadata": {},
     "output_type": "execute_result"
    }
   ],
   "source": [
    "useful_crimes.head(1)"
   ]
  },
  {
   "attachments": {},
   "cell_type": "markdown",
   "metadata": {},
   "source": [
    "### 1. Importaciones y preprocesamiento"
   ]
  },
  {
   "cell_type": "code",
   "execution_count": 16,
   "metadata": {},
   "outputs": [
    {
     "data": {
      "text/plain": [
       "<Axes: >"
      ]
     },
     "execution_count": 16,
     "metadata": {},
     "output_type": "execute_result"
    },
    {
     "data": {
      "image/png": "[encoded data removed]",
      "text/plain": [
       "<Figure size 640x480 with 1 Axes>"
      ]
     },
     "metadata": {},
     "output_type": "display_data"
    }
   ],
   "source": [
    "unif = manz.unary_union\n",
    "bounding_box = unif.bounds\n",
    "minx, miny, maxx, maxy = bounding_box\n",
    "width = max(maxx - minx, maxy - miny)\n",
    "expanded_bbox = box(minx, miny, minx + width, miny + width)\n",
    "ny_box = gpd.GeoDataFrame(geometry=[expanded_bbox])\n",
    "ax = manz.plot(color='blue', alpha=0.5)\n",
    "ny_box.plot(ax=ax, color='red', alpha=0.5)"
   ]
  },
  {
   "cell_type": "code",
   "execution_count": 17,
   "metadata": {},
   "outputs": [],
   "source": [
    "poly = ny_box.geometry.iloc[0]\n",
    "xy = list(poly.exterior.coords)\n",
    "aoi = ee.Geometry.Polygon([xy[0], xy[1], xy[2], xy[3]])\n",
    "x = aoi.centroid().getInfo()['coordinates'][0]\n",
    "y = aoi.centroid().getInfo()['coordinates'][1]"
   ]
  },
  {
   "cell_type": "code",
   "execution_count": 18,
   "metadata": {},
   "outputs": [],
   "source": [
    "aoi2 = ee.Geometry.Point([x-.1, y-.1])"
   ]
  },
  {
   "attachments": {},
   "cell_type": "markdown",
   "metadata": {},
   "source": [
    "## 2. Visualización de HeatMaps"
   ]
  },
  {
   "cell_type": "code",
   "execution_count": 42,
   "metadata": {},
   "outputs": [],
   "source": [
    "def cloudMask(image):\n",
    "    qa = image.select('QA_PIXEL')\n",
    "    mask = qa.bitwiseAnd(1 << 3).Or(qa.bitwiseAnd(1 << 4))\n",
    "    return image.updateMask(mask.Not())"
   ]
  },
  {
   "cell_type": "code",
   "execution_count": 47,
   "metadata": {},
   "outputs": [],
   "source": [
    "# \"LANDSAT/LE07/C01/T1\"\n",
    "# https://developers.google.com/earth-engine/datasets/catalog/LANDSAT_LC09_C02_T1_L2\n",
    "collection = ee.ImageCollection(\"LANDSAT/LC09/C02/T1_L2\").filterBounds(aoi2).filterDate('2021-01-30', '2023-06-22')\n",
    "images=collection.aggregate_array('system:id').getInfo()"
   ]
  },
  {
   "cell_type": "code",
   "execution_count": 48,
   "metadata": {},
   "outputs": [
    {
     "data": {
      "text/plain": [
       "57"
      ]
     },
     "execution_count": 48,
     "metadata": {},
     "output_type": "execute_result"
    }
   ],
   "source": [
    "len(images)"
   ]
  },
  {
   "cell_type": "code",
   "execution_count": 49,
   "metadata": {},
   "outputs": [],
   "source": [
    "def applyScaleFactors(image):\n",
    "    thermalband = image.multiply(0.00341802).add(149.0).subtract(273.15)\n",
    "    return image.addBands(srcImg=thermalband, overwrite=True)"
   ]
  },
  {
   "cell_type": "code",
   "execution_count": 50,
   "metadata": {},
   "outputs": [
    {
     "data": {
      "application/vnd.jupyter.widget-view+json": {
       "model_id": "cd73a3b6d34d462ba014074545c7e4db",
       "version_major": 2,
       "version_minor": 0
      },
      "text/plain": [
       "Map(center=[40.673871012612906, -74.07780021318202], controls=(WidgetControl(options=['position', 'transparent…"
      ]
     },
     "execution_count": 50,
     "metadata": {},
     "output_type": "execute_result"
    }
   ],
   "source": [
    "Map = geemap.Map()\n",
    "least_cloudy = ee.Image(collection.sort('CLOUDY_PIXEL_PERCENTAGE').first())\n",
    "vis_params = {'min': 1,\n",
    "    'max': 65455, \n",
    "    'bands': ['SR_B2', 'SR_B3', 'SR_B4']}\n",
    "\n",
    "heat_params = {'min': -20,\n",
    "    'max': 40,\n",
    "    'bands': 'ST_B10',\n",
    "    'pallete': ['blue', 'white', 'red']}\n",
    "\n",
    "clipped_image = least_cloudy.clip(aoi)\n",
    "image = applyScaleFactors(clipped_image)\n",
    "Map.addLayer(clipped_image, vis_params, 'Espectro visible')\n",
    "Map.addLayer(image, heat_params, 'Imagen térmica')\n",
    "Map.centerObject(aoi2, 10)\n",
    "Map"
   ]
  },
  {
   "cell_type": "code",
   "execution_count": null,
   "metadata": {},
   "outputs": [],
   "source": []
  }
 ],
 "metadata": {
  "kernelspec": {
   "display_name": "tensorflow",
   "language": "python",
   "name": "python3"
  },
  "language_info": {
   "codemirror_mode": {
    "name": "ipython",
    "version": 3
   },
   "file_extension": ".py",
   "mimetype": "text/x-python",
   "name": "python",
   "nbconvert_exporter": "python",
   "pygments_lexer": "ipython3",
   "version": "3.9.16"
  },
  "orig_nbformat": 4
 },
 "nbformat": 4,
 "nbformat_minor": 2
}
