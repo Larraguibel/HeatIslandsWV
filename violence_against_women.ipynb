{
 "cells": [
  {
   "attachments": {},
   "cell_type": "markdown",
   "metadata": {},
   "source": [
    "## 1. Importaciones y lecturas"
   ]
  },
  {
   "cell_type": "code",
   "execution_count": null,
   "metadata": {},
   "outputs": [],
   "source": [
    "import pandas as pd\n",
    "import geopandas as gpd\n",
    "import matplotlib.pyplot as plt\n",
    "import ee\n",
    "import geemap\n",
    "from shapely.geometry import box\n",
    "import ipygee as ui\n",
    "import numpy as np\n",
    "import seaborn as sns"
   ]
  },
  {
   "cell_type": "code",
   "execution_count": null,
   "metadata": {},
   "outputs": [],
   "source": [
    "# ee.Authenticate()\n",
    "ee.Initialize()"
   ]
  },
  {
   "cell_type": "code",
   "execution_count": null,
   "metadata": {},
   "outputs": [],
   "source": [
    "big_crimes = gpd.read_file('NYPD_violence_against_women.gpkg')\n",
    "big_crimes.to_crs('EPSG:4326', inplace=True)"
   ]
  },
  {
   "cell_type": "code",
   "execution_count": null,
   "metadata": {},
   "outputs": [],
   "source": [
    "manz = gpd.read_file('nyct2020_23b/nyct2020.shp')\n",
    "manz.to_crs('EPSG:4326', inplace=True)\n",
    "manz.head(1)"
   ]
  },
  {
   "cell_type": "code",
   "execution_count": null,
   "metadata": {},
   "outputs": [],
   "source": [
    "unif = manz.unary_union\n",
    "bounding_box = unif.bounds\n",
    "minx, miny, maxx, maxy = bounding_box\n",
    "width = max(maxx - minx, maxy - miny)\n",
    "expanded_bbox = box(minx, miny, minx + width, miny + width)\n",
    "ny_box = gpd.GeoDataFrame(geometry=[expanded_bbox])\n",
    "ax = manz.plot(color='blue', alpha=0.5)\n",
    "ny_box.plot(ax=ax, color='red', alpha=0.5)"
   ]
  },
  {
   "cell_type": "code",
   "execution_count": null,
   "metadata": {},
   "outputs": [],
   "source": [
    "poly = ny_box.geometry.iloc[0]\n",
    "xy = list(poly.exterior.coords)\n",
    "aoi = ee.Geometry.Polygon([xy[0], xy[1], xy[2], xy[3]])\n",
    "x = aoi.centroid().getInfo()['coordinates'][0]\n",
    "y = aoi.centroid().getInfo()['coordinates'][1]\n",
    "aoi2 = ee.Geometry.Point([x-.1, y-.1])"
   ]
  },
  {
   "cell_type": "markdown",
   "metadata": {},
   "source": [
    "## 2. Visualización de HeatMaps"
   ]
  },
  {
   "cell_type": "code",
   "execution_count": null,
   "metadata": {},
   "outputs": [],
   "source": [
    "def cloudMask(image):\n",
    "    qa = image.select('QA_PIXEL')\n",
    "    mask = qa.bitwiseAnd(1 << 3).Or(qa.bitwiseAnd(1 << 4))\n",
    "    return image.updateMask(mask.Not())\n",
    "\n",
    "\n",
    "def applyScaleFactors(image):\n",
    "    thermalband = image.multiply(0.00341802).add(149.0).subtract(273.15)\n",
    "    return image.addBands(srcImg=thermalband, overwrite=True)"
   ]
  },
  {
   "cell_type": "code",
   "execution_count": null,
   "metadata": {},
   "outputs": [],
   "source": [
    "# \"LANDSAT/LE07/C01/T1\"\n",
    "# https://developers.google.com/earth-engine/datasets/catalog/LANDSAT_LC09_C02_T1_L2\n",
    "\n",
    "collection = ee.ImageCollection(\"LANDSAT/LC09/C02/T1_L2\").filterBounds(aoi).filterDate('2022-05-30', '2022-07-10').map(cloudMask)\n",
    "filtered_l8 = collection.filter(ee.Filter.lt('CLOUD_COVER', 25))\n",
    "landsatST = filtered_l8.map(applyScaleFactors)\n",
    "mean_landsatST = landsatST.mean()\n",
    "clip_mean_ST = mean_landsatST.clip(aoi)\n",
    "\n",
    "images=collection.aggregate_array('system:id').getInfo()\n",
    "print(len(images))"
   ]
  },
  {
   "cell_type": "code",
   "execution_count": null,
   "metadata": {},
   "outputs": [],
   "source": [
    "values_ST = clip_mean_ST.select('ST_B10')\n",
    "histogram_ST = values_ST.reduceRegion(\n",
    "    reducer=ee.Reducer.histogram(30),\n",
    "    geometry=aoi,\n",
    "    scale=30\n",
    ")\n",
    "\n",
    "values_ST = clip_mean_ST.select('ST_B10')\n",
    "histogram_info = histogram_ST.get('ST_B10').getInfo()\n",
    "histogram_values = histogram_info['histogram']\n",
    "bucket_means = histogram_info['bucketMeans']\n",
    "\n",
    "num_bins = len(histogram_values)\n",
    "min_value = bucket_means[0] - (bucket_means[1] - bucket_means[0]) / 2\n",
    "max_value = bucket_means[-1] + (bucket_means[-1] - bucket_means[-2]) / 2\n",
    "bin_edges = np.linspace(min_value, max_value, num_bins + 1)\n",
    "\n",
    "histogram_df = pd.DataFrame({'bin_edges': bin_edges[:-1], 'histogram_values': histogram_values})\n",
    "\n",
    "plt.figure(figsize=(10, 6))\n",
    "ax = sns.barplot(data=histogram_df, x='bin_edges', y='histogram_values')\n",
    "plt.xlabel('Valor del pixel')\n",
    "plt.ylabel('Frecuencia')\n",
    "plt.title('Histograma de temperatura superficial (2022-05-30 hasta 2022-07-10) en ºC')\n",
    "\n",
    "tick_positions = np.arange(len(bin_edges[:-1])) + 0.5\n",
    "tick_labels = [f'{val:.2f}' for val in bin_edges[:-1]]\n",
    "plt.xticks(tick_positions, tick_labels)\n",
    "plt.xticks(rotation=45)\n",
    "plt.tight_layout()"
   ]
  },
  {
   "cell_type": "code",
   "execution_count": null,
   "metadata": {},
   "outputs": [],
   "source": [
    "Map = geemap.Map()\n",
    "heat_params = {'min': 15,\n",
    "    'max': 50,\n",
    "    'bands': 'ST_B10',\n",
    "    'palette': ['blue', 'white', 'red']}\n",
    "Map.addLayer(clip_mean_ST, heat_params, 'ST')\n",
    "Map.centerObject(aoi2, 10)\n",
    "Map"
   ]
  },
  {
   "cell_type": "code",
   "execution_count": null,
   "metadata": {},
   "outputs": [],
   "source": [
    "heat_islands = clip_mean_ST.gt(48).selfMask()\n",
    "hi_params = {'min': 30,\n",
    "    'max': 50,\n",
    "    'bands': 'ST_B10',\n",
    "    'palette': 'black'}\n",
    "Map.addLayer(heat_islands, hi_params, 'Heat Islands')"
   ]
  },
  {
   "cell_type": "code",
   "execution_count": null,
   "metadata": {},
   "outputs": [],
   "source": [
    "values_ST = clip_mean_ST.select('ST_B10')\n",
    "histogram_ST = values_ST.reduceRegion(\n",
    "    reducer=ee.Reducer.histogram(30),\n",
    "    geometry=aoi,\n",
    "    scale=30\n",
    ")\n",
    "\n",
    "values_ST = clip_mean_ST.select('ST_B10')\n",
    "histogram_info = histogram_ST.get('ST_B10').getInfo()\n",
    "histogram_values = histogram_info['histogram']\n",
    "bucket_means = histogram_info['bucketMeans']\n",
    "\n",
    "num_bins = len(histogram_values)\n",
    "min_value = bucket_means[0] - (bucket_means[1] - bucket_means[0]) / 2\n",
    "max_value = bucket_means[-1] + (bucket_means[-1] - bucket_means[-2]) / 2\n",
    "bin_edges = np.linspace(min_value, max_value, num_bins + 1)\n",
    "\n",
    "histogram_df = pd.DataFrame({'bin_edges': bin_edges[:-1], 'histogram_values': histogram_values})\n",
    "\n",
    "plt.figure(figsize=(10, 6))\n",
    "ax = sns.barplot(data=histogram_df, x='bin_edges', y='histogram_values')\n",
    "plt.xlabel('Valor del pixel')\n",
    "plt.ylabel('Frecuencia')\n",
    "plt.title('Histograma de temperatura superficial (2022-05-30 hasta 2022-07-10) en ºC')\n",
    "\n",
    "tick_positions = np.arange(len(bin_edges[:-1])) + 0.5\n",
    "tick_labels = [f'{val:.2f}' for val in bin_edges[:-1]]\n",
    "plt.xticks(tick_positions, tick_labels)\n",
    "plt.xticks(rotation=45)\n",
    "plt.tight_layout()"
   ]
  },
  {
   "cell_type": "code",
   "execution_count": null,
   "metadata": {},
   "outputs": [],
   "source": [
    "Map = geemap.Map()\n",
    "heat_params = {'min': 15,\n",
    "    'max': 50,\n",
    "    'bands': 'ST_B10',\n",
    "    'palette': ['blue', 'white', 'red']}\n",
    "Map.addLayer(clip_mean_ST, heat_params, 'ST')\n",
    "Map.centerObject(aoi2, 10)\n",
    "Map"
   ]
  },
  {
   "cell_type": "code",
   "execution_count": null,
   "metadata": {},
   "outputs": [],
   "source": [
    "heat_islands = clip_mean_ST.gt(48).selfMask()\n",
    "hi_params = {'min': 30,\n",
    "    'max': 50,\n",
    "    'bands': 'ST_B10',\n",
    "    'palette': 'black'}\n",
    "Map.addLayer(heat_islands, hi_params, 'Heat Islands')"
   ]
  },
  {
   "attachments": {},
   "cell_type": "markdown",
   "metadata": {},
   "source": [
    "## 3. Visualizar información de crimenes"
   ]
  },
  {
   "cell_type": "code",
   "execution_count": null,
   "metadata": {},
   "outputs": [],
   "source": [
    "fig, ax = plt.subplots(1,1, figsize=(10,10))\n",
    "big_crimes.plot(ax=ax, alpha=0.1, markersize=0.01)"
   ]
  },
  {
   "attachments": {},
   "cell_type": "markdown",
   "metadata": {},
   "source": [
    "## 4. Extraer información de heat islands para el periodo relevante (2022)"
   ]
  },
  {
   "cell_type": "code",
   "execution_count": null,
   "metadata": {},
   "outputs": [],
   "source": []
  }
 ],
 "metadata": {
  "kernelspec": {
   "display_name": "tensorflow",
   "language": "python",
   "name": "python3"
  },
  "language_info": {
   "codemirror_mode": {
    "name": "ipython",
    "version": 3
   },
   "file_extension": ".py",
   "mimetype": "text/x-python",
   "name": "python",
   "nbconvert_exporter": "python",
   "pygments_lexer": "ipython3",
   "version": "3.9.16"
  },
  "orig_nbformat": 4
 },
 "nbformat": 4,
 "nbformat_minor": 2
}
