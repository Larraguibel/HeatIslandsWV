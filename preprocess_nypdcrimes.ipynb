{
 "cells": [
  {
   "cell_type": "code",
   "execution_count": null,
   "metadata": {},
   "outputs": [],
   "source": [
    "#https://data.cityofnewyork.us/Public-Safety/NYPD-Complaint-Data-Current-Year-To-Date-/5uac-w243"
   ]
  },
  {
   "cell_type": "code",
   "execution_count": 1,
   "metadata": {},
   "outputs": [],
   "source": [
    "import geopandas as gpd "
   ]
  },
  {
   "cell_type": "code",
   "execution_count": 2,
   "metadata": {},
   "outputs": [],
   "source": [
    "a = gpd.read_file('datasets/NYPD Complaint Data Current (Year To Date)/nypd_crimes.shp')"
   ]
  },
  {
   "cell_type": "code",
   "execution_count": 3,
   "metadata": {},
   "outputs": [
    {
     "data": {
      "text/html": [
       "<div>\n",
       "<style scoped>\n",
       "    .dataframe tbody tr th:only-of-type {\n",
       "        vertical-align: middle;\n",
       "    }\n",
       "\n",
       "    .dataframe tbody tr th {\n",
       "        vertical-align: top;\n",
       "    }\n",
       "\n",
       "    .dataframe thead th {\n",
       "        text-align: right;\n",
       "    }\n",
       "</style>\n",
       "<table border=\"1\" class=\"dataframe\">\n",
       "  <thead>\n",
       "    <tr style=\"text-align: right;\">\n",
       "      <th></th>\n",
       "      <th>cmplnt_num</th>\n",
       "      <th>addr_pct_c</th>\n",
       "      <th>boro_nm</th>\n",
       "      <th>date_cmpln</th>\n",
       "      <th>time_cmpln</th>\n",
       "      <th>cmplnt_fr_</th>\n",
       "      <th>date_cmp_2</th>\n",
       "      <th>time_cmp_2</th>\n",
       "      <th>cmplnt_to_</th>\n",
       "      <th>crm_atpt_c</th>\n",
       "      <th>...</th>\n",
       "      <th>vic_sex</th>\n",
       "      <th>x_coord_cd</th>\n",
       "      <th>y_coord_cd</th>\n",
       "      <th>latitude</th>\n",
       "      <th>longitude</th>\n",
       "      <th>lat_lon_ad</th>\n",
       "      <th>lat_lon_ci</th>\n",
       "      <th>lat_lon_st</th>\n",
       "      <th>lat_lon_zi</th>\n",
       "      <th>geometry</th>\n",
       "    </tr>\n",
       "  </thead>\n",
       "  <tbody>\n",
       "    <tr>\n",
       "      <th>0</th>\n",
       "      <td>261548672</td>\n",
       "      <td>43.0</td>\n",
       "      <td>BRONX</td>\n",
       "      <td>2023-01-07</td>\n",
       "      <td>00:00:00.000</td>\n",
       "      <td>21:30:00</td>\n",
       "      <td>None</td>\n",
       "      <td>None</td>\n",
       "      <td>(null)</td>\n",
       "      <td>COMPLETED</td>\n",
       "      <td>...</td>\n",
       "      <td>D</td>\n",
       "      <td>1026226.0</td>\n",
       "      <td>236504.0</td>\n",
       "      <td>40.815726</td>\n",
       "      <td>-73.848350</td>\n",
       "      <td>None</td>\n",
       "      <td>None</td>\n",
       "      <td>None</td>\n",
       "      <td>None</td>\n",
       "      <td>POINT (-73.84835 40.81573)</td>\n",
       "    </tr>\n",
       "    <tr>\n",
       "      <th>1</th>\n",
       "      <td>265065361</td>\n",
       "      <td>69.0</td>\n",
       "      <td>BROOKLYN</td>\n",
       "      <td>2022-06-12</td>\n",
       "      <td>00:00:00.000</td>\n",
       "      <td>01:55:00</td>\n",
       "      <td>None</td>\n",
       "      <td>None</td>\n",
       "      <td>(null)</td>\n",
       "      <td>COMPLETED</td>\n",
       "      <td>...</td>\n",
       "      <td>E</td>\n",
       "      <td>1012661.0</td>\n",
       "      <td>177364.0</td>\n",
       "      <td>40.653454</td>\n",
       "      <td>-73.897609</td>\n",
       "      <td>None</td>\n",
       "      <td>None</td>\n",
       "      <td>None</td>\n",
       "      <td>None</td>\n",
       "      <td>POINT (-73.89761 40.65345)</td>\n",
       "    </tr>\n",
       "    <tr>\n",
       "      <th>2</th>\n",
       "      <td>262612530</td>\n",
       "      <td>110.0</td>\n",
       "      <td>QUEENS</td>\n",
       "      <td>2022-09-09</td>\n",
       "      <td>00:00:00.000</td>\n",
       "      <td>00:55:00</td>\n",
       "      <td>2022-09-09</td>\n",
       "      <td>00:00:00.000</td>\n",
       "      <td>01:19:00</td>\n",
       "      <td>COMPLETED</td>\n",
       "      <td>...</td>\n",
       "      <td>F</td>\n",
       "      <td>1019164.0</td>\n",
       "      <td>210169.0</td>\n",
       "      <td>40.743481</td>\n",
       "      <td>-73.874004</td>\n",
       "      <td>None</td>\n",
       "      <td>None</td>\n",
       "      <td>None</td>\n",
       "      <td>None</td>\n",
       "      <td>POINT (-73.87400 40.74348)</td>\n",
       "    </tr>\n",
       "    <tr>\n",
       "      <th>3</th>\n",
       "      <td>261233867</td>\n",
       "      <td>123.0</td>\n",
       "      <td>STATEN ISLAND</td>\n",
       "      <td>2023-01-02</td>\n",
       "      <td>00:00:00.000</td>\n",
       "      <td>02:00:00</td>\n",
       "      <td>2023-01-02</td>\n",
       "      <td>00:00:00.000</td>\n",
       "      <td>02:10:00</td>\n",
       "      <td>COMPLETED</td>\n",
       "      <td>...</td>\n",
       "      <td>F</td>\n",
       "      <td>917367.0</td>\n",
       "      <td>125198.0</td>\n",
       "      <td>40.510063</td>\n",
       "      <td>-74.240524</td>\n",
       "      <td>None</td>\n",
       "      <td>None</td>\n",
       "      <td>None</td>\n",
       "      <td>None</td>\n",
       "      <td>POINT (-74.24052 40.51006)</td>\n",
       "    </tr>\n",
       "    <tr>\n",
       "      <th>4</th>\n",
       "      <td>264778583</td>\n",
       "      <td>30.0</td>\n",
       "      <td>MANHATTAN</td>\n",
       "      <td>2021-06-29</td>\n",
       "      <td>00:00:00.000</td>\n",
       "      <td>21:00:00</td>\n",
       "      <td>2021-06-29</td>\n",
       "      <td>00:00:00.000</td>\n",
       "      <td>21:30:00</td>\n",
       "      <td>COMPLETED</td>\n",
       "      <td>...</td>\n",
       "      <td>F</td>\n",
       "      <td>998164.0</td>\n",
       "      <td>241176.0</td>\n",
       "      <td>40.828637</td>\n",
       "      <td>-73.949722</td>\n",
       "      <td>None</td>\n",
       "      <td>None</td>\n",
       "      <td>None</td>\n",
       "      <td>None</td>\n",
       "      <td>POINT (-73.94972 40.82864)</td>\n",
       "    </tr>\n",
       "  </tbody>\n",
       "</table>\n",
       "<p>5 rows × 42 columns</p>\n",
       "</div>"
      ],
      "text/plain": [
       "  cmplnt_num  addr_pct_c        boro_nm  date_cmpln    time_cmpln cmplnt_fr_   \n",
       "0  261548672        43.0          BRONX  2023-01-07  00:00:00.000   21:30:00  \\\n",
       "1  265065361        69.0       BROOKLYN  2022-06-12  00:00:00.000   01:55:00   \n",
       "2  262612530       110.0         QUEENS  2022-09-09  00:00:00.000   00:55:00   \n",
       "3  261233867       123.0  STATEN ISLAND  2023-01-02  00:00:00.000   02:00:00   \n",
       "4  264778583        30.0      MANHATTAN  2021-06-29  00:00:00.000   21:00:00   \n",
       "\n",
       "   date_cmp_2    time_cmp_2 cmplnt_to_ crm_atpt_c  ... vic_sex  x_coord_cd   \n",
       "0        None          None     (null)  COMPLETED  ...       D   1026226.0  \\\n",
       "1        None          None     (null)  COMPLETED  ...       E   1012661.0   \n",
       "2  2022-09-09  00:00:00.000   01:19:00  COMPLETED  ...       F   1019164.0   \n",
       "3  2023-01-02  00:00:00.000   02:10:00  COMPLETED  ...       F    917367.0   \n",
       "4  2021-06-29  00:00:00.000   21:30:00  COMPLETED  ...       F    998164.0   \n",
       "\n",
       "   y_coord_cd   latitude  longitude lat_lon_ad lat_lon_ci lat_lon_st   \n",
       "0    236504.0  40.815726 -73.848350       None       None       None  \\\n",
       "1    177364.0  40.653454 -73.897609       None       None       None   \n",
       "2    210169.0  40.743481 -73.874004       None       None       None   \n",
       "3    125198.0  40.510063 -74.240524       None       None       None   \n",
       "4    241176.0  40.828637 -73.949722       None       None       None   \n",
       "\n",
       "  lat_lon_zi                    geometry  \n",
       "0       None  POINT (-73.84835 40.81573)  \n",
       "1       None  POINT (-73.89761 40.65345)  \n",
       "2       None  POINT (-73.87400 40.74348)  \n",
       "3       None  POINT (-74.24052 40.51006)  \n",
       "4       None  POINT (-73.94972 40.82864)  \n",
       "\n",
       "[5 rows x 42 columns]"
      ]
     },
     "execution_count": 3,
     "metadata": {},
     "output_type": "execute_result"
    }
   ],
   "source": [
    "a.head()"
   ]
  },
  {
   "cell_type": "code",
   "execution_count": 4,
   "metadata": {},
   "outputs": [
    {
     "data": {
      "text/plain": [
       "Index(['cmplnt_num', 'addr_pct_c', 'boro_nm', 'date_cmpln', 'time_cmpln',\n",
       "       'cmplnt_fr_', 'date_cmp_2', 'time_cmp_2', 'cmplnt_to_', 'crm_atpt_c',\n",
       "       'hadevelopt', 'housing_ps', 'jurisdicti', 'juris_desc', 'ky_cd',\n",
       "       'law_cat_cd', 'loc_of_occ', 'ofns_desc', 'parks_nm', 'patrol_bor',\n",
       "       'pd_cd', 'pd_desc', 'prem_typ_d', 'date_rpt_d', 'time_rpt_d',\n",
       "       'station_na', 'susp_age_g', 'susp_race', 'susp_sex', 'transit_di',\n",
       "       'vic_age_gr', 'vic_race', 'vic_sex', 'x_coord_cd', 'y_coord_cd',\n",
       "       'latitude', 'longitude', 'lat_lon_ad', 'lat_lon_ci', 'lat_lon_st',\n",
       "       'lat_lon_zi', 'geometry'],\n",
       "      dtype='object')"
      ]
     },
     "execution_count": 4,
     "metadata": {},
     "output_type": "execute_result"
    }
   ],
   "source": [
    "a.columns"
   ]
  },
  {
   "cell_type": "code",
   "execution_count": 10,
   "metadata": {},
   "outputs": [],
   "source": [
    "data = a[(a['susp_sex'] == 'M') & (a['vic_sex'] == 'F')]"
   ]
  },
  {
   "cell_type": "code",
   "execution_count": 29,
   "metadata": {},
   "outputs": [],
   "source": [
    "remove = ['lat_lon_ad','lat_lon_ci','lat_lon_st','lat_lon_zi']"
   ]
  },
  {
   "cell_type": "code",
   "execution_count": 31,
   "metadata": {},
   "outputs": [],
   "source": [
    "ref_data = data.drop(columns=remove)"
   ]
  },
  {
   "cell_type": "code",
   "execution_count": 33,
   "metadata": {},
   "outputs": [],
   "source": [
    "ref_data.drop_duplicates(inplace=True)"
   ]
  },
  {
   "cell_type": "code",
   "execution_count": 35,
   "metadata": {},
   "outputs": [
    {
     "data": {
      "text/plain": [
       "2         578.0\n",
       "4         344.0\n",
       "6         233.0\n",
       "9         361.0\n",
       "10        233.0\n",
       "          ...  \n",
       "130185    344.0\n",
       "130189    233.0\n",
       "130191    106.0\n",
       "130193    578.0\n",
       "130198    126.0\n",
       "Name: ky_cd, Length: 23280, dtype: float64"
      ]
     },
     "execution_count": 35,
     "metadata": {},
     "output_type": "execute_result"
    }
   ],
   "source": [
    "ref_data['ky_cd']"
   ]
  },
  {
   "cell_type": "code",
   "execution_count": 36,
   "metadata": {},
   "outputs": [],
   "source": [
    "ref_data.to_file(\"crimes_filtered.shp\", driver=\"ESRI Shapefile\")"
   ]
  },
  {
   "cell_type": "code",
   "execution_count": null,
   "metadata": {},
   "outputs": [],
   "source": []
  }
 ],
 "metadata": {
  "kernelspec": {
   "display_name": "tensorflow",
   "language": "python",
   "name": "python3"
  },
  "language_info": {
   "codemirror_mode": {
    "name": "ipython",
    "version": 3
   },
   "file_extension": ".py",
   "mimetype": "text/x-python",
   "name": "python",
   "nbconvert_exporter": "python",
   "pygments_lexer": "ipython3",
   "version": "3.9.16"
  },
  "orig_nbformat": 4
 },
 "nbformat": 4,
 "nbformat_minor": 2
}
