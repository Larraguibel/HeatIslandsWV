{
 "cells": [
  {
   "attachments": {},
   "cell_type": "markdown",
   "metadata": {},
   "source": [
    "## 1. Importaciones y lecturas "
   ]
  },
  {
   "cell_type": "code",
   "execution_count": null,
   "metadata": {},
   "outputs": [],
   "source": [
    "#https://data.cityofnewyork.us/Public-Safety/NYPD-Complaint-Data-Current-Year-To-Date-/5uac-w243"
   ]
  },
  {
   "attachments": {},
   "cell_type": "markdown",
   "metadata": {},
   "source": [
    "Leemos la base y nos quedamos con columnas relevantes"
   ]
  },
  {
   "cell_type": "code",
   "execution_count": null,
   "metadata": {},
   "outputs": [],
   "source": [
    "data = pd.read_csv('NYPD_Complaint_Data_Historic.csv')\n",
    "data = data[['CMPLNT_FR_DT', 'OFNS_DESC', 'SUSP_AGE_GROUP', 'SUSP_RACE', 'SUSP_SEX',\n",
    "                         'VIC_AGE_GROUP', 'VIC_RACE', 'VIC_SEX',\n",
    "                        'Latitude', 'Longitude']]"
   ]
  },
  {
   "cell_type": "code",
   "execution_count": null,
   "metadata": {},
   "outputs": [],
   "source": [
    "data['OFNS_DESC'].unique()"
   ]
  },
  {
   "cell_type": "code",
   "execution_count": null,
   "metadata": {},
   "outputs": [],
   "source": [
    "values = ['RAPE', 'HARRASSMENT 2', 'KIDNAPPING & RELATED OFFENSES', 'SEX CRIMES',\n",
    "          'HOMICIDE-NEGLIGENT,UNCLASSIFIE', 'LOITERING/DEVIATE SEX', 'KIDNAPPING AND RELATED OFFENSES',\n",
    "          'KIDNAPPING', 'FELONY SEX CRIMES']\n",
    "data = data[data['OFNS_DESC'].isin(values)]"
   ]
  },
  {
   "cell_type": "code",
   "execution_count": null,
   "metadata": {},
   "outputs": [],
   "source": [
    "data = data[(data['SUSP_SEX'] == 'M') & (data['VIC_SEX'] == 'F')]"
   ]
  },
  {
   "cell_type": "code",
   "execution_count": null,
   "metadata": {},
   "outputs": [],
   "source": [
    "data['geometry'] = data.apply(lambda x: Point(x['Longitude'], x['Latitude']), axis=1)\n",
    "big_crimes = gpd.GeoDataFrame(data, geometry='geometry')"
   ]
  },
  {
   "cell_type": "code",
   "execution_count": null,
   "metadata": {},
   "outputs": [],
   "source": [
    "big_crimes"
   ]
  },
  {
   "cell_type": "code",
   "execution_count": null,
   "metadata": {},
   "outputs": [],
   "source": [
    "big_crimes['CMPLNT_FR_DT'] = pd.to_datetime(big_crimes['CMPLNT_FR_DT'], errors='coerce')\n",
    "\n",
    "# Extract the year from each date\n",
    "big_crimes['year'] = big_crimes['CMPLNT_FR_DT'].dt.year\n",
    "\n",
    "# Plot the histogram\n",
    "plt.hist(big_crimes['year'], bins=range(1973, 2024), edgecolor='black')\n",
    "\n",
    "# Customize the plot\n",
    "plt.xlabel('Year')\n",
    "plt.ylabel('Count')\n",
    "plt.title('Histogram of Crime Notifications by Year')"
   ]
  },
  {
   "attachments": {},
   "cell_type": "markdown",
   "metadata": {},
   "source": [
    "Podemos ver que La gran masa de crimenes la tenemos desde 2010. Dado a el volumend e datos que tenemos, nos quedaremos solo con los datos posteriores al año ___"
   ]
  },
  {
   "cell_type": "code",
   "execution_count": null,
   "metadata": {},
   "outputs": [],
   "source": [
    "data_2022 = big_crimes[big_crimes['year'] >= 2022]"
   ]
  },
  {
   "cell_type": "code",
   "execution_count": null,
   "metadata": {},
   "outputs": [],
   "source": [
    "len(data_2022)"
   ]
  },
  {
   "attachments": {},
   "cell_type": "markdown",
   "metadata": {},
   "source": [
    "Podemos ver que Luego de filtrar, solo para el 2022 ya tenemos 33000 datos! "
   ]
  },
  {
   "cell_type": "code",
   "execution_count": null,
   "metadata": {},
   "outputs": [],
   "source": [
    "data_2022['month'] = data_2022['CMPLNT_FR_DT'].dt.month\n",
    "\n",
    "# Plot the histogram\n",
    "plt.hist(data_2022['month'], bins=range(1, 13), edgecolor='black')\n",
    "\n",
    "unique_months = sorted(data_2022['month'].unique())\n",
    "\n",
    "# Plot the histogram\n",
    "plt.hist(data_2022['month'], bins=range(1, 14), edgecolor='black')\n",
    "\n",
    "# Customize the plot\n",
    "plt.xlabel('Month')\n",
    "plt.ylabel('Count')\n",
    "plt.title('Histogram of Crime Notifications by Month')\n",
    "\n",
    "# Set x-axis tick labels to month names\n",
    "month_names = pd.date_range(start='2022-01', periods=len(unique_months), freq='M').strftime('%b')\n",
    "plt.xticks(unique_months, month_names)"
   ]
  },
  {
   "cell_type": "code",
   "execution_count": null,
   "metadata": {},
   "outputs": [],
   "source": [
    "import geopandas as gpd \n",
    "import pandas as pd\n",
    "import matplotlib.pyplot as plt\n",
    "from shapely.geometry import Point"
   ]
  },
  {
   "cell_type": "code",
   "execution_count": null,
   "metadata": {},
   "outputs": [],
   "source": [
    "a = gpd.read_file('datasets/NYPD Complaint Data Current (Year To Date)/nypd_crimes.shp')"
   ]
  },
  {
   "cell_type": "code",
   "execution_count": null,
   "metadata": {},
   "outputs": [],
   "source": [
    "a.head()"
   ]
  },
  {
   "cell_type": "code",
   "execution_count": null,
   "metadata": {},
   "outputs": [],
   "source": [
    "a.columns"
   ]
  },
  {
   "attachments": {},
   "cell_type": "markdown",
   "metadata": {},
   "source": [
    "## 2. Filtrado"
   ]
  },
  {
   "attachments": {},
   "cell_type": "markdown",
   "metadata": {},
   "source": [
    "### 2.1 Crimenes desde hombreas a mujeres"
   ]
  },
  {
   "cell_type": "code",
   "execution_count": null,
   "metadata": {},
   "outputs": [],
   "source": [
    "data = a[(a['susp_sex'] == 'M') & (a['vic_sex'] == 'F')]"
   ]
  },
  {
   "cell_type": "code",
   "execution_count": null,
   "metadata": {},
   "outputs": [],
   "source": [
    "remove = ['lat_lon_ad','lat_lon_ci','lat_lon_st','lat_lon_zi']"
   ]
  },
  {
   "cell_type": "code",
   "execution_count": null,
   "metadata": {},
   "outputs": [],
   "source": [
    "ref_data = data.drop(columns=remove)"
   ]
  },
  {
   "cell_type": "code",
   "execution_count": null,
   "metadata": {},
   "outputs": [],
   "source": [
    "ref_data.drop_duplicates(inplace=True)"
   ]
  },
  {
   "cell_type": "code",
   "execution_count": null,
   "metadata": {},
   "outputs": [],
   "source": [
    "ref_data['ky_cd']"
   ]
  },
  {
   "cell_type": "code",
   "execution_count": null,
   "metadata": {},
   "outputs": [],
   "source": [
    "ref_data.to_file(\"crimes_filtered.shp\", driver=\"ESRI Shapefile\")"
   ]
  },
  {
   "attachments": {},
   "cell_type": "markdown",
   "metadata": {},
   "source": [
    "### 2.2 Subconjunto de crimenes que se considerarán violencia de genero"
   ]
  },
  {
   "attachments": {},
   "cell_type": "markdown",
   "metadata": {},
   "source": [
    "Olvidamos guardar esta parte, pero el dataset ya está filtrado :)"
   ]
  },
  {
   "attachments": {},
   "cell_type": "markdown",
   "metadata": {},
   "source": [
    "### 2.3 Según fecha de denuncia"
   ]
  },
  {
   "cell_type": "code",
   "execution_count": null,
   "metadata": {},
   "outputs": [],
   "source": [
    "useful_crimes = gpd.read_file('filtered dataset/crimes_filtered.shp')\n",
    "useful_crimes.to_crs('EPSG:4326', inplace=True)"
   ]
  },
  {
   "cell_type": "code",
   "execution_count": null,
   "metadata": {},
   "outputs": [],
   "source": [
    "useful_crimes['date_cmpln'] = pd.to_datetime(useful_crimes['date_cmpln'])\n",
    "\n",
    "# Extract the year from each date\n",
    "useful_crimes['year'] = useful_crimes['date_cmpln'].dt.year\n",
    "\n",
    "# Plot the histogram\n",
    "plt.hist(useful_crimes['year'], bins=range(1973, 2024), edgecolor='black')\n",
    "\n",
    "# Customize the plot\n",
    "plt.xlabel('Year')\n",
    "plt.ylabel('Count')\n",
    "plt.title('Histogram of Crime Notifications by Year')\n"
   ]
  },
  {
   "cell_type": "code",
   "execution_count": null,
   "metadata": {},
   "outputs": [],
   "source": [
    "fech = useful_crimes[['date_cmpln', 'year']]\n",
    "fech[fech['year'] <= 2022]"
   ]
  },
  {
   "attachments": {},
   "cell_type": "markdown",
   "metadata": {},
   "source": [
    "Dado que solo hay 623 datos antes de 2023, removemos y solo nos quedamos con los de este año."
   ]
  },
  {
   "cell_type": "code",
   "execution_count": null,
   "metadata": {},
   "outputs": [],
   "source": [
    "useful_crimes = useful_crimes[useful_crimes['year'] == 2023]"
   ]
  },
  {
   "cell_type": "code",
   "execution_count": null,
   "metadata": {},
   "outputs": [],
   "source": [
    "useful_crimes"
   ]
  },
  {
   "cell_type": "code",
   "execution_count": null,
   "metadata": {},
   "outputs": [],
   "source": [
    "useful_crimes.columns"
   ]
  },
  {
   "cell_type": "code",
   "execution_count": null,
   "metadata": {},
   "outputs": [],
   "source": [
    "useful_crimes = useful_crimes[['date_cmpln', 'ofns_desc', 'susp_age_g', 'susp_race',\n",
    "                               'vic_race', 'susp_sex', 'vic_age_gr', 'longitude', 'latitude',\n",
    "                               'year', 'month', 'geometry']]"
   ]
  },
  {
   "attachments": {},
   "cell_type": "markdown",
   "metadata": {},
   "source": [
    "Teneemos data para todo el año! Desconozco que es lo azul que sobresale de noviembre. Ahora guardamos este gdf"
   ]
  },
  {
   "cell_type": "code",
   "execution_count": 35,
   "metadata": {},
   "outputs": [],
   "source": [
    "data_2022.to_file(\"NYPD_violence_against_women.gpkg\", driver=\"GPKG\")"
   ]
  },
  {
   "cell_type": "code",
   "execution_count": 36,
   "metadata": {},
   "outputs": [
    {
     "data": {
      "text/html": [
       "<div>\n",
       "<style scoped>\n",
       "    .dataframe tbody tr th:only-of-type {\n",
       "        vertical-align: middle;\n",
       "    }\n",
       "\n",
       "    .dataframe tbody tr th {\n",
       "        vertical-align: top;\n",
       "    }\n",
       "\n",
       "    .dataframe thead th {\n",
       "        text-align: right;\n",
       "    }\n",
       "</style>\n",
       "<table border=\"1\" class=\"dataframe\">\n",
       "  <thead>\n",
       "    <tr style=\"text-align: right;\">\n",
       "      <th></th>\n",
       "      <th>CMPLNT_FR_DT</th>\n",
       "      <th>OFNS_DESC</th>\n",
       "      <th>SUSP_AGE_GROUP</th>\n",
       "      <th>SUSP_RACE</th>\n",
       "      <th>SUSP_SEX</th>\n",
       "      <th>VIC_AGE_GROUP</th>\n",
       "      <th>VIC_RACE</th>\n",
       "      <th>VIC_SEX</th>\n",
       "      <th>Latitude</th>\n",
       "      <th>Longitude</th>\n",
       "      <th>geometry</th>\n",
       "      <th>year</th>\n",
       "      <th>month</th>\n",
       "    </tr>\n",
       "  </thead>\n",
       "  <tbody>\n",
       "    <tr>\n",
       "      <th>96</th>\n",
       "      <td>2022-01-07</td>\n",
       "      <td>RAPE</td>\n",
       "      <td>UNKNOWN</td>\n",
       "      <td>BLACK</td>\n",
       "      <td>M</td>\n",
       "      <td>18-24</td>\n",
       "      <td>BLACK</td>\n",
       "      <td>F</td>\n",
       "      <td>40.887314</td>\n",
       "      <td>-73.847272</td>\n",
       "      <td>POINT (-73.84727 40.88731)</td>\n",
       "      <td>2022.0</td>\n",
       "      <td>1</td>\n",
       "    </tr>\n",
       "    <tr>\n",
       "      <th>97</th>\n",
       "      <td>2022-01-09</td>\n",
       "      <td>RAPE</td>\n",
       "      <td>25-44</td>\n",
       "      <td>BLACK</td>\n",
       "      <td>M</td>\n",
       "      <td>25-44</td>\n",
       "      <td>BLACK</td>\n",
       "      <td>F</td>\n",
       "      <td>40.887314</td>\n",
       "      <td>-73.847272</td>\n",
       "      <td>POINT (-73.84727 40.88731)</td>\n",
       "      <td>2022.0</td>\n",
       "      <td>1</td>\n",
       "    </tr>\n",
       "    <tr>\n",
       "      <th>7799471</th>\n",
       "      <td>2022-01-20</td>\n",
       "      <td>RAPE</td>\n",
       "      <td>&lt;18</td>\n",
       "      <td>BLACK</td>\n",
       "      <td>M</td>\n",
       "      <td>&lt;18</td>\n",
       "      <td>BLACK HISPANIC</td>\n",
       "      <td>F</td>\n",
       "      <td>40.822912</td>\n",
       "      <td>-73.870041</td>\n",
       "      <td>POINT (-73.87004 40.82291)</td>\n",
       "      <td>2022.0</td>\n",
       "      <td>1</td>\n",
       "    </tr>\n",
       "    <tr>\n",
       "      <th>7821208</th>\n",
       "      <td>2022-01-01</td>\n",
       "      <td>HARRASSMENT 2</td>\n",
       "      <td>UNKNOWN</td>\n",
       "      <td>UNKNOWN</td>\n",
       "      <td>M</td>\n",
       "      <td>65+</td>\n",
       "      <td>WHITE HISPANIC</td>\n",
       "      <td>F</td>\n",
       "      <td>40.650402</td>\n",
       "      <td>-73.963258</td>\n",
       "      <td>POINT (-73.96326 40.65040)</td>\n",
       "      <td>2022.0</td>\n",
       "      <td>1</td>\n",
       "    </tr>\n",
       "    <tr>\n",
       "      <th>7821255</th>\n",
       "      <td>2022-01-01</td>\n",
       "      <td>SEX CRIMES</td>\n",
       "      <td>25-44</td>\n",
       "      <td>ASIAN / PACIFIC ISLANDER</td>\n",
       "      <td>M</td>\n",
       "      <td>25-44</td>\n",
       "      <td>WHITE</td>\n",
       "      <td>F</td>\n",
       "      <td>40.737203</td>\n",
       "      <td>-73.983273</td>\n",
       "      <td>POINT (-73.98327 40.73720)</td>\n",
       "      <td>2022.0</td>\n",
       "      <td>1</td>\n",
       "    </tr>\n",
       "    <tr>\n",
       "      <th>...</th>\n",
       "      <td>...</td>\n",
       "      <td>...</td>\n",
       "      <td>...</td>\n",
       "      <td>...</td>\n",
       "      <td>...</td>\n",
       "      <td>...</td>\n",
       "      <td>...</td>\n",
       "      <td>...</td>\n",
       "      <td>...</td>\n",
       "      <td>...</td>\n",
       "      <td>...</td>\n",
       "      <td>...</td>\n",
       "      <td>...</td>\n",
       "    </tr>\n",
       "    <tr>\n",
       "      <th>8352972</th>\n",
       "      <td>2022-12-31</td>\n",
       "      <td>HARRASSMENT 2</td>\n",
       "      <td>UNKNOWN</td>\n",
       "      <td>UNKNOWN</td>\n",
       "      <td>M</td>\n",
       "      <td>25-44</td>\n",
       "      <td>WHITE HISPANIC</td>\n",
       "      <td>F</td>\n",
       "      <td>40.757657</td>\n",
       "      <td>-73.875325</td>\n",
       "      <td>POINT (-73.87533 40.75766)</td>\n",
       "      <td>2022.0</td>\n",
       "      <td>12</td>\n",
       "    </tr>\n",
       "    <tr>\n",
       "      <th>8352979</th>\n",
       "      <td>2022-12-30</td>\n",
       "      <td>SEX CRIMES</td>\n",
       "      <td>25-44</td>\n",
       "      <td>BLACK</td>\n",
       "      <td>M</td>\n",
       "      <td>&lt;18</td>\n",
       "      <td>BLACK</td>\n",
       "      <td>F</td>\n",
       "      <td>40.682398</td>\n",
       "      <td>-73.840072</td>\n",
       "      <td>POINT (-73.84007 40.68240)</td>\n",
       "      <td>2022.0</td>\n",
       "      <td>12</td>\n",
       "    </tr>\n",
       "    <tr>\n",
       "      <th>8352995</th>\n",
       "      <td>2022-12-31</td>\n",
       "      <td>HARRASSMENT 2</td>\n",
       "      <td>25-44</td>\n",
       "      <td>BLACK</td>\n",
       "      <td>M</td>\n",
       "      <td>25-44</td>\n",
       "      <td>BLACK</td>\n",
       "      <td>F</td>\n",
       "      <td>40.669766</td>\n",
       "      <td>-73.865736</td>\n",
       "      <td>POINT (-73.86574 40.66977)</td>\n",
       "      <td>2022.0</td>\n",
       "      <td>12</td>\n",
       "    </tr>\n",
       "    <tr>\n",
       "      <th>8353036</th>\n",
       "      <td>2022-12-31</td>\n",
       "      <td>HARRASSMENT 2</td>\n",
       "      <td>25-44</td>\n",
       "      <td>BLACK</td>\n",
       "      <td>M</td>\n",
       "      <td>18-24</td>\n",
       "      <td>BLACK</td>\n",
       "      <td>F</td>\n",
       "      <td>40.682495</td>\n",
       "      <td>-73.924308</td>\n",
       "      <td>POINT (-73.92431 40.68250)</td>\n",
       "      <td>2022.0</td>\n",
       "      <td>12</td>\n",
       "    </tr>\n",
       "    <tr>\n",
       "      <th>8353042</th>\n",
       "      <td>2022-12-30</td>\n",
       "      <td>HARRASSMENT 2</td>\n",
       "      <td>25-44</td>\n",
       "      <td>BLACK</td>\n",
       "      <td>M</td>\n",
       "      <td>25-44</td>\n",
       "      <td>BLACK</td>\n",
       "      <td>F</td>\n",
       "      <td>40.669193</td>\n",
       "      <td>-73.909639</td>\n",
       "      <td>POINT (-73.90964 40.66919)</td>\n",
       "      <td>2022.0</td>\n",
       "      <td>12</td>\n",
       "    </tr>\n",
       "  </tbody>\n",
       "</table>\n",
       "<p>33734 rows × 13 columns</p>\n",
       "</div>"
      ],
      "text/plain": [
       "        CMPLNT_FR_DT      OFNS_DESC SUSP_AGE_GROUP                 SUSP_RACE   \n",
       "96        2022-01-07           RAPE        UNKNOWN                     BLACK  \\\n",
       "97        2022-01-09           RAPE          25-44                     BLACK   \n",
       "7799471   2022-01-20           RAPE            <18                     BLACK   \n",
       "7821208   2022-01-01  HARRASSMENT 2        UNKNOWN                   UNKNOWN   \n",
       "7821255   2022-01-01     SEX CRIMES          25-44  ASIAN / PACIFIC ISLANDER   \n",
       "...              ...            ...            ...                       ...   \n",
       "8352972   2022-12-31  HARRASSMENT 2        UNKNOWN                   UNKNOWN   \n",
       "8352979   2022-12-30     SEX CRIMES          25-44                     BLACK   \n",
       "8352995   2022-12-31  HARRASSMENT 2          25-44                     BLACK   \n",
       "8353036   2022-12-31  HARRASSMENT 2          25-44                     BLACK   \n",
       "8353042   2022-12-30  HARRASSMENT 2          25-44                     BLACK   \n",
       "\n",
       "        SUSP_SEX VIC_AGE_GROUP        VIC_RACE VIC_SEX   Latitude  Longitude   \n",
       "96             M         18-24           BLACK       F  40.887314 -73.847272  \\\n",
       "97             M         25-44           BLACK       F  40.887314 -73.847272   \n",
       "7799471        M           <18  BLACK HISPANIC       F  40.822912 -73.870041   \n",
       "7821208        M           65+  WHITE HISPANIC       F  40.650402 -73.963258   \n",
       "7821255        M         25-44           WHITE       F  40.737203 -73.983273   \n",
       "...          ...           ...             ...     ...        ...        ...   \n",
       "8352972        M         25-44  WHITE HISPANIC       F  40.757657 -73.875325   \n",
       "8352979        M           <18           BLACK       F  40.682398 -73.840072   \n",
       "8352995        M         25-44           BLACK       F  40.669766 -73.865736   \n",
       "8353036        M         18-24           BLACK       F  40.682495 -73.924308   \n",
       "8353042        M         25-44           BLACK       F  40.669193 -73.909639   \n",
       "\n",
       "                           geometry    year  month  \n",
       "96       POINT (-73.84727 40.88731)  2022.0      1  \n",
       "97       POINT (-73.84727 40.88731)  2022.0      1  \n",
       "7799471  POINT (-73.87004 40.82291)  2022.0      1  \n",
       "7821208  POINT (-73.96326 40.65040)  2022.0      1  \n",
       "7821255  POINT (-73.98327 40.73720)  2022.0      1  \n",
       "...                             ...     ...    ...  \n",
       "8352972  POINT (-73.87533 40.75766)  2022.0     12  \n",
       "8352979  POINT (-73.84007 40.68240)  2022.0     12  \n",
       "8352995  POINT (-73.86574 40.66977)  2022.0     12  \n",
       "8353036  POINT (-73.92431 40.68250)  2022.0     12  \n",
       "8353042  POINT (-73.90964 40.66919)  2022.0     12  \n",
       "\n",
       "[33734 rows x 13 columns]"
      ]
     },
     "execution_count": 36,
     "metadata": {},
     "output_type": "execute_result"
    }
   ],
   "source": [
    "data_2022"
   ]
  },
  {
   "cell_type": "code",
   "execution_count": 2,
   "metadata": {},
   "outputs": [],
   "source": [
    "data = gpd.read_file('NYPD_violence_against_women.gpkg')"
   ]
  },
  {
   "cell_type": "code",
   "execution_count": 3,
   "metadata": {},
   "outputs": [
    {
     "data": {
      "text/plain": [
       "<Axes: >"
      ]
     },
     "execution_count": 3,
     "metadata": {},
     "output_type": "execute_result"
    },
    {
     "data": {
      "image/png": "[encoded data removed]",
      "text/plain": [
       "<Figure size 640x480 with 1 Axes>"
      ]
     },
     "metadata": {},
     "output_type": "display_data"
    }
   ],
   "source": [
    "data.plot()"
   ]
  },
  {
   "cell_type": "code",
   "execution_count": null,
   "metadata": {},
   "outputs": [],
   "source": []
  }
 ],
 "metadata": {
  "kernelspec": {
   "display_name": "tensorflow",
   "language": "python",
   "name": "python3"
  },
  "language_info": {
   "codemirror_mode": {
    "name": "ipython",
    "version": 3
   },
   "file_extension": ".py",
   "mimetype": "text/x-python",
   "name": "python",
   "nbconvert_exporter": "python",
   "pygments_lexer": "ipython3",
   "version": "3.9.16"
  },
  "orig_nbformat": 4
 },
 "nbformat": 4,
 "nbformat_minor": 2
}
